{
 "cells": [
  {
   "cell_type": "markdown",
   "metadata": {},
   "source": [
    "\n",
    "# PIPLINE:\n",
    "## Storage end\n",
    "1. get you FILE(txt or jpg or else), determine KEY(two float: u,x), look up your KEY in MAP(a dictionary) to get KEYDNA(DNA sequence)\n",
    "2. encrypt your FILE with KEY, get ENC-FILE(quanternary list as well as txtfile)\n",
    "3. dna-fountain ENC-FILE, get FT-ENC-FILE\n",
    "4. pack FT-ENC-FILE with KEYDNA, get PACKAGE\n",
    "\n",
    "$ (3.5699456<u<=4, 0<X0<1) $\n",
    "\n",
    "## Receiving end\n",
    "1. from PACKAGE get KEYDNA， look up KEYDNA in MAP to get KEY\n",
    "2. de-fountain FT-ENC-FILE， get ENC-FILE\n",
    "3. de-encrypt ENC-FILE with KEY, get FILE\n",
    "\n",
    "\n",
    "Some tips: \n",
    "1. Attention: some External Dependencies needed, eg. a MAP to encode key(u,x) to DNA \n",
    "2. complex file should be convert to binfile fist \n",
    "3. this code is for showing intermediate variables"
   ]
  },
  {
   "cell_type": "code",
   "execution_count": 1,
   "metadata": {},
   "outputs": [],
   "source": [
    "import numpy as np\n",
    "import random\n",
    "import pdb\n",
    "import os\n",
    "import matplotlib\n",
    "import matplotlib.pyplot as plt\n",
    "p=pdb.set_trace\n",
    "#from ENClib import *\n",
    "\n",
    "from PIL import Image\n",
    "imread=Image.open"
   ]
  },
  {
   "cell_type": "code",
   "execution_count": 2,
   "metadata": {},
   "outputs": [],
   "source": [
    "import numpy as np\n",
    "import random\n",
    "import pdb\n",
    "\"\"\"\n",
    "first ？ num of quanternary shows some info\n",
    "the leading 0 for binfile, 1 for txt, 2 for img\n",
    "The second 0 means num of characters in the original list is even,1 for odd\n",
    "\n",
    "\"\"\"\n",
    "def num2quant(num,aimlist,places):\n",
    "    while places!=0:\n",
    "        tmp=int(num/pow(4,places-1))\n",
    "        aimlist.append(tmp)\n",
    "        num-=tmp*pow(4,places-1)\n",
    "        places-=1\n",
    "def quant2num(aimlist):\n",
    "    places=len(aimlist)\n",
    "    ans=0\n",
    "    for i in range(places):\n",
    "        ans+=aimlist[i]*pow(4,places-i-1)\n",
    "    return ans\n",
    "\"\"\"\n",
    "num2quant(j,n,4) == \n",
    "                \n",
    "            a1=int(j/64)\n",
    "            a2=int((j-a1*64)/16)\n",
    "            a3=int((j-a1*64-a2*16)/4)\n",
    "            a4=int(j-a1*64-a2*16-a3*4)\n",
    "            n.append(a1)\n",
    "            n.append(a2)\n",
    "            n.append(a3)\n",
    "            n.append(a4)  \n",
    "\"\"\"\n",
    "      \n",
    "def bin2quant(binfile):\n",
    "    n=[]\n",
    "    n.append(0)\n",
    "    return n\n",
    "def txt2quant(txt): \n",
    "    n=[]\n",
    "    n.append(1)\n",
    "    for i in txt:\n",
    "        j=ord(i)\n",
    "        num2quant(j,n,4)        \n",
    "    return np.array(n)\n",
    "\n",
    "def quant2txt(ql):\n",
    "    txt=''\n",
    "    if ql[0]==1:\n",
    "        tmp=ql[1:].reshape(-1,4)\n",
    "        for i in tmp:\n",
    "            txt+=chr(64*i[0]+16*i[1]+4*i[2]+i[3])\n",
    "    elif ql[0]==2:\n",
    "        tmp=ql.reshape(-1,4)\n",
    "        for i in tmp:\n",
    "            txt+=chr(64*i[0]+16*i[1]+4*i[2]+i[3])\n",
    "    return txt\n",
    "\n",
    "def img2quant(img): \n",
    "    n=[]\n",
    "    n.append(2)\n",
    "    shape=img.shape\n",
    "    if len(shape)==3:\n",
    "        n.append(3)\n",
    "    else:\n",
    "        n.append(1)\n",
    "    for i in shape[0:2]:\n",
    "        num2quant(i,n,7)\n",
    "    img=img.reshape(1,-1)\n",
    "    for j in img[0]:\n",
    "        num2quant(j,n,4) \n",
    "    return np.array(n)\n",
    "def quant2img(ql):\n",
    "    img=[]\n",
    "    m=quant2num(ql[2:9])\n",
    "    n=quant2num(ql[9:16])\n",
    "    if ql[1]==3:\n",
    "        shape=[m,n,3]\n",
    "    else:\n",
    "        shape=[m,n]\n",
    "    print(shape)\n",
    "    tmp=ql[16:].reshape(-1,4)\n",
    "    for i in tmp:\n",
    "        img.append(64*i[0]+16*i[1]+4*i[2]+i[3])\n",
    "    return np.array(img).reshape(shape)\n",
    "\n",
    "def gen_key(u,x,lens):\n",
    "    a=0\n",
    "    key_list=[]\n",
    "    real_key=[]\n",
    "    for i in range(50+lens):\n",
    "        if i==0:\n",
    "            key_list.append(x)\n",
    "        else: \n",
    "            key_list.append(u*key_list[i-1]*(1-key_list[i-1]))\n",
    "    for i in key_list[50:50+lens]:\n",
    "        real_key.append(np.mod(round(i*100000000),10))\n",
    "    real_key[0]=0\n",
    "    return real_key\n",
    "def encryp_quant(key,quant):\n",
    "    \"\"\"\n",
    "    key is a tuple of 2\n",
    "    \"\"\"\n",
    "    u,x=key\n",
    "    lens=len(quant)\n",
    "    key=gen_key(u,x,lens)\n",
    "    return np.array([(quant[i]+key[i])%4 for i in range(len(quant))])\n",
    "def deencryp_quant(key,quant):\n",
    "    \"\"\"\n",
    "    key is a tuple of 3\n",
    "    \"\"\"\n",
    "    u,x=key\n",
    "    lens=len(quant)\n",
    "    key=gen_key(u,x,lens)\n",
    "    return np.array([(quant[i]-key[i])%4 for i in range(len(quant))])\n",
    "\n",
    "def decode_quant(ql):\n",
    "    if ql[0]==1 :\n",
    "        return quant2txt(ql)\n",
    "    elif ql[0]==2:\n",
    "        return quant2img(ql)"
   ]
  },
  {
   "cell_type": "code",
   "execution_count": null,
   "metadata": {},
   "outputs": [],
   "source": []
  },
  {
   "cell_type": "code",
   "execution_count": null,
   "metadata": {},
   "outputs": [],
   "source": []
  },
  {
   "cell_type": "code",
   "execution_count": 10,
   "metadata": {},
   "outputs": [
    {
     "name": "stdout",
     "output_type": "stream",
     "text": [
      "[180, 180]\n"
     ]
    }
   ],
   "source": [
    "#encryption img (now support one and 3 channel pics, todo： large pics support) \n",
    "img=np.array(imread(\"lena.jpg\"))\n",
    "#img=img[1000:1100,1000:1100]\n",
    "shape=img.shape\n",
    "quantlist=img2quant(img)\n",
    "se_key=[3.733,0.4333]\n",
    "#just for eg\n",
    "enc_quantlist=encryp_quant(se_key,quantlist)\n",
    "ENCFILE=quant2txt(enc_quantlist)\n",
    "ff=open(\"encimg.txt\",'w',encoding='utf-8')\n",
    "ff.write(ENCFILE)\n",
    "ff.close()\n",
    "\n",
    "#———————————save enc img——————————\n",
    "encimg=[]\n",
    "tmp=enc_quantlist[16:].reshape(-1,4)\n",
    "for i in tmp:\n",
    "    encimg.append(64*i[0]+16*i[1]+4*i[2]+i[3])\n",
    "encimg=np.array(encimg).reshape(shape)\n",
    "plt.imsave('encimg.jpg',encimg.astype('uint8'))\n",
    "\n",
    "\n",
    "\n",
    "#——————————fountain————————————#\n",
    "#——————————add KEYDNA, get package—————————#\n",
    "\n",
    "\n",
    "#——————————————————————receiving end(re)—————————————————————————————————————\n",
    "#——————from package,get KEYDNA,then look for key————————#\n",
    "#here need a search map operation to get key, but i havent done this\n",
    "#KEYDNA=get_keydna(PACKAGE)\n",
    "#key=get_key(KEYDNA,MAP)\n",
    "#——————————defountain,get ENC-FILE——————————#\n",
    "#not my part,get re_ENCFILE\n",
    "\n",
    "re_key=se_key\n",
    "re_ENCFILE=ENCFILE\n",
    "re_enc_quantlist=txt2quant(re_ENCFILE)[1:]\n",
    "re_quantlist=deencryp_quant(re_key,re_enc_quantlist)\n",
    "re_file=decode_quant(re_quantlist)\n",
    "\n",
    "plt.imsave('2.jpg',re_file.astype('uint8'))\n"
   ]
  },
  {
   "cell_type": "code",
   "execution_count": null,
   "metadata": {},
   "outputs": [],
   "source": []
  },
  {
   "cell_type": "code",
   "execution_count": 6,
   "metadata": {},
   "outputs": [],
   "source": [
    "#encryption txt (simple txt files within ascii 0-127, others plz convert to binfile and then encryption )\n",
    "\n",
    "\n",
    "\n",
    "#————————————————————storage end(se)—————————————————————————————\n",
    "#init args\n",
    "encoding='utf-8'\n",
    "#args end\n",
    "\n",
    "f=open(\"1.txt\",'r',encoding=encoding)\n",
    "#f=open(\"1.txt\",'r')\n",
    "txtfile=f.read()\n",
    "f.close()\n",
    "quantlist=txt2quant(txtfile)\n",
    "se_key=[3.733,0.4333]\n",
    "#just for eg\n",
    "enc_quantlist=encryp_quant(se_key,quantlist)\n",
    "ENCFILE=decode_quant(enc_quantlist)\n",
    "ff=open(\"enctxt.txt\",'w',encoding=encoding)\n",
    "ff.write(ENCFILE)\n",
    "ff.close()\n",
    "#——————————fountain————————————#\n",
    "#——————————add KEYDNA, get package—————————#\n",
    "\n",
    "\n",
    "#——————————————————————receiving end(re)—————————————————————————————————————\n",
    "#——————from package,get KEYDNA,then look for key————————#\n",
    "#here need a search map operation to get key, but i havent done this\n",
    "#KEYDNA=get_keydna(PACKAGE)\n",
    "#key=get_key(KEYDNA,MAP)\n",
    "#——————————defountain,get ENC-FILE——————————#\n",
    "#not my part,get re_ENCFILE\n",
    "\n",
    "re_key=se_key\n",
    "re_ENCFILE=ENCFILE\n",
    "\n",
    "re_enc_quantlist=txt2quant(re_ENCFILE)\n",
    "re_quantlist=deencryp_quant(re_key,re_enc_quantlist)\n",
    "re_file=quant2txt(re_quantlist)\n",
    "ff=open(\"2.txt\",'w',encoding=encoding)\n",
    "ff.write(re_file)\n",
    "ff.close()"
   ]
  },
  {
   "cell_type": "code",
   "execution_count": null,
   "metadata": {},
   "outputs": [],
   "source": []
  },
  {
   "cell_type": "code",
   "execution_count": null,
   "metadata": {},
   "outputs": [],
   "source": []
  },
  {
   "cell_type": "code",
   "execution_count": 204,
   "metadata": {},
   "outputs": [
    {
     "data": {
      "text/plain": [
       "80"
      ]
     },
     "execution_count": 204,
     "metadata": {},
     "output_type": "execute_result"
    }
   ],
   "source": []
  },
  {
   "cell_type": "code",
   "execution_count": 232,
   "metadata": {},
   "outputs": [
    {
     "data": {
      "text/plain": [
       "<matplotlib.image.AxesImage at 0x207b480bdd8>"
      ]
     },
     "execution_count": 232,
     "metadata": {},
     "output_type": "execute_result"
    },
    {
     "data": {
      "image/png": "[encoded data removed]",
      "text/plain": [
       "<Figure size 432x288 with 1 Axes>"
      ]
     },
     "metadata": {
      "needs_background": "light"
     },
     "output_type": "display_data"
    }
   ],
   "source": [
    "img=np.array(imread(\"24.jpg\"))\n",
    "img=img[1000:1100,1000:1100]\n",
    "plt.imshow(img)"
   ]
  },
  {
   "cell_type": "code",
   "execution_count": null,
   "metadata": {},
   "outputs": [],
   "source": []
  },
  {
   "cell_type": "code",
   "execution_count": 15,
   "metadata": {},
   "outputs": [],
   "source": [
    "shape=img.shape"
   ]
  },
  {
   "cell_type": "code",
   "execution_count": 16,
   "metadata": {},
   "outputs": [
    {
     "data": {
      "text/plain": [
       "(180, 180)"
      ]
     },
     "execution_count": 16,
     "metadata": {},
     "output_type": "execute_result"
    }
   ],
   "source": [
    "shape"
   ]
  },
  {
   "cell_type": "code",
   "execution_count": null,
   "metadata": {},
   "outputs": [],
   "source": []
  },
  {
   "cell_type": "code",
   "execution_count": null,
   "metadata": {},
   "outputs": [],
   "source": [
    "#encryption general binary files\n"
   ]
  },
  {
   "cell_type": "code",
   "execution_count": 112,
   "metadata": {},
   "outputs": [],
   "source": []
  },
  {
   "cell_type": "code",
   "execution_count": 123,
   "metadata": {},
   "outputs": [],
   "source": []
  },
  {
   "cell_type": "code",
   "execution_count": 125,
   "metadata": {},
   "outputs": [
    {
     "data": {
      "text/plain": [
       "275"
      ]
     },
     "execution_count": 125,
     "metadata": {},
     "output_type": "execute_result"
    }
   ],
   "source": []
  },
  {
   "cell_type": "code",
   "execution_count": 52,
   "metadata": {},
   "outputs": [
    {
     "data": {
      "text/plain": [
       "15"
      ]
     },
     "execution_count": 52,
     "metadata": {},
     "output_type": "execute_result"
    }
   ],
   "source": []
  },
  {
   "cell_type": "code",
   "execution_count": null,
   "metadata": {},
   "outputs": [],
   "source": []
  },
  {
   "cell_type": "code",
   "execution_count": null,
   "metadata": {},
   "outputs": [],
   "source": []
  },
  {
   "cell_type": "code",
   "execution_count": null,
   "metadata": {},
   "outputs": [],
   "source": []
  }
 ],
 "metadata": {
  "kernelspec": {
   "display_name": "Python 3",
   "language": "python",
   "name": "python3"
  },
  "language_info": {
   "codemirror_mode": {
    "name": "ipython",
    "version": 3
   },
   "file_extension": ".py",
   "mimetype": "text/x-python",
   "name": "python",
   "nbconvert_exporter": "python",
   "pygments_lexer": "ipython3",
   "version": "3.7.3"
  }
 },
 "nbformat": 4,
 "nbformat_minor": 4
}
